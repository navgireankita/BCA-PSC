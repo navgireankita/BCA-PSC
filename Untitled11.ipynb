{
 "cells": [
  {
   "cell_type": "code",
   "execution_count": 5,
   "id": "1746b46b-4bf0-43af-a7b2-db2994260ef4",
   "metadata": {},
   "outputs": [],
   "source": [
    "name = \"FardEEn ahMED\""
   ]
  },
  {
   "cell_type": "code",
   "execution_count": 6,
   "id": "7ddccf79-a93e-48ef-852a-5dc0729f9d40",
   "metadata": {},
   "outputs": [
    {
     "data": {
      "text/plain": [
       "'fARDeeN AHmed'"
      ]
     },
     "execution_count": 6,
     "metadata": {},
     "output_type": "execute_result"
    }
   ],
   "source": [
    "# Convert capital to small and small to Capital\n",
    "name.swapcase()"
   ]
  },
  {
   "cell_type": "code",
   "execution_count": null,
   "id": "a3144f57-3987-4b7b-adec-4e2bd4167443",
   "metadata": {},
   "outputs": [],
   "source": []
  }
 ],
 "metadata": {
  "kernelspec": {
   "display_name": "Python 3 (ipykernel)",
   "language": "python",
   "name": "python3"
  },
  "language_info": {
   "codemirror_mode": {
    "name": "ipython",
    "version": 3
   },
   "file_extension": ".py",
   "mimetype": "text/x-python",
   "name": "python",
   "nbconvert_exporter": "python",
   "pygments_lexer": "ipython3",
   "version": "3.12.4"
  }
 },
 "nbformat": 4,
 "nbformat_minor": 5
}
